{
  "nbformat": 4,
  "nbformat_minor": 0,
  "metadata": {
    "colab": {
      "provenance": []
    },
    "kernelspec": {
      "name": "python3",
      "display_name": "Python 3"
    },
    "language_info": {
      "name": "python"
    }
  },
  "cells": [
    {
      "cell_type": "markdown",
      "source": [
        "# Example of string slicing"
      ],
      "metadata": {
        "id": "JprUm5F159xb"
      }
    },
    {
      "cell_type": "markdown",
      "source": [
        "# Extracting a substring from the beginning"
      ],
      "metadata": {
        "id": "3uKR18Wh6Lpa"
      }
    },
    {
      "cell_type": "code",
      "source": [
        "\n",
        "\n",
        "string=\"hello, everyone \"\n",
        "substr=string[:4]\n",
        "print(substr)"
      ],
      "metadata": {
        "colab": {
          "base_uri": "https://localhost:8080/"
        },
        "id": "l9APJOoEyRs6",
        "outputId": "1e7d6488-6971-4880-9e18-8bea17d63d32"
      },
      "execution_count": 2,
      "outputs": [
        {
          "output_type": "stream",
          "name": "stdout",
          "text": [
            "hell\n"
          ]
        }
      ]
    },
    {
      "cell_type": "markdown",
      "source": [
        "#extracting a substring from the middle"
      ],
      "metadata": {
        "id": "dS7Vhpbtzq8C"
      }
    },
    {
      "cell_type": "code",
      "source": [
        "string2=\"hello , himanshu\"\n",
        "substr1=string2[3:6]\n",
        "print(substr1)"
      ],
      "metadata": {
        "colab": {
          "base_uri": "https://localhost:8080/"
        },
        "id": "8sHndxriz1lS",
        "outputId": "8422a044-04ee-4e63-e004-b61bfa809376"
      },
      "execution_count": 11,
      "outputs": [
        {
          "output_type": "stream",
          "name": "stdout",
          "text": [
            "lo \n"
          ]
        }
      ]
    },
    {
      "cell_type": "markdown",
      "source": [
        "#extracting substring from the end\n"
      ],
      "metadata": {
        "id": "CYpQkqcv1pnz"
      }
    },
    {
      "cell_type": "code",
      "source": [
        "string4=\"hello,world\"\n",
        "substr2=string4[-5:]\n",
        "print(substr2)"
      ],
      "metadata": {
        "colab": {
          "base_uri": "https://localhost:8080/"
        },
        "id": "r5hoE1lz2dPE",
        "outputId": "6d01c77b-80e7-4552-ec02-95d7b57acb9c"
      },
      "execution_count": 12,
      "outputs": [
        {
          "output_type": "stream",
          "name": "stdout",
          "text": [
            "world\n"
          ]
        }
      ]
    },
    {
      "cell_type": "markdown",
      "source": [
        "# extract every other character"
      ],
      "metadata": {
        "id": "e1wZuglM4Ian"
      }
    },
    {
      "cell_type": "code",
      "source": [
        "string5=\"hello, python\"\n",
        "substr3=string5[::2]\n",
        "print(substr3)"
      ],
      "metadata": {
        "colab": {
          "base_uri": "https://localhost:8080/"
        },
        "id": "Z8AR2b2N4MkR",
        "outputId": "b984f139-4623-4ecf-faff-165c693bbfda"
      },
      "execution_count": 14,
      "outputs": [
        {
          "output_type": "stream",
          "name": "stdout",
          "text": [
            "hlo yhn\n"
          ]
        }
      ]
    },
    {
      "cell_type": "markdown",
      "source": [
        "# Some functin of python"
      ],
      "metadata": {
        "id": "Ad6z0ky29bbs"
      }
    },
    {
      "cell_type": "markdown",
      "source": [
        "#list()function"
      ],
      "metadata": {
        "id": "N0oRcYrG9i_8"
      }
    },
    {
      "cell_type": "code",
      "source": [
        "list_1=[\"apple\",\"soap\",\"mango\"]\n",
        "list_2=[\"orange\",\"bat\",\"coffee\"]\n",
        "print(list_1)\n",
        "print(list_2)"
      ],
      "metadata": {
        "colab": {
          "base_uri": "https://localhost:8080/"
        },
        "id": "a0Qyh5HO9ie2",
        "outputId": "00a8c2d7-17a7-4a62-f477-85afbb74f3e4"
      },
      "execution_count": 15,
      "outputs": [
        {
          "output_type": "stream",
          "name": "stdout",
          "text": [
            "['apple', 'soap', 'mango']\n",
            "['orange', 'bat', 'coffee']\n"
          ]
        }
      ]
    },
    {
      "cell_type": "markdown",
      "source": [
        "# How to add a list"
      ],
      "metadata": {
        "id": "dnyo3STU-ha9"
      }
    },
    {
      "cell_type": "code",
      "source": [
        "list_shop=[\"shirt\",\"shoes\"]\n",
        "list_shop2=[\"watch\",\"tie\"]\n",
        "print(list_shop+list_shop2)"
      ],
      "metadata": {
        "colab": {
          "base_uri": "https://localhost:8080/"
        },
        "id": "lbKyshpT-nlL",
        "outputId": "7937942d-96e4-45b8-9332-3bf69743170f"
      },
      "execution_count": 21,
      "outputs": [
        {
          "output_type": "stream",
          "name": "stdout",
          "text": [
            "['shirt', 'shoes', 'watch', 'tie']\n"
          ]
        }
      ]
    },
    {
      "cell_type": "markdown",
      "source": [
        "# tuple()function"
      ],
      "metadata": {
        "id": "Sj8WwKqH_3nz"
      }
    },
    {
      "cell_type": "markdown",
      "source": [
        "It contains same values like hi double time"
      ],
      "metadata": {
        "id": "I6E_q5-8Cxs1"
      }
    },
    {
      "cell_type": "code",
      "source": [
        "tuple_1=(\"hello\",\"hi\",\"how are you\")\n",
        "tuple_2=(\"hi\",\"hello\",\"hi\",\"hello\")\n",
        "\n",
        "print(tuple_1)\n",
        "print(tuple_2)"
      ],
      "metadata": {
        "colab": {
          "base_uri": "https://localhost:8080/"
        },
        "id": "wo7zB_kAAFDb",
        "outputId": "11c520e0-5ac3-4787-b75e-43f0e5afaa7f"
      },
      "execution_count": 28,
      "outputs": [
        {
          "output_type": "stream",
          "name": "stdout",
          "text": [
            "('hello', 'hi', 'how are you')\n",
            "('hi', 'hello', 'hi', 'hello')\n"
          ]
        }
      ]
    },
    {
      "cell_type": "markdown",
      "source": [
        "# set{}function"
      ],
      "metadata": {
        "id": "B97lK-q2CeNX"
      }
    },
    {
      "cell_type": "markdown",
      "source": [
        "It does not contain same values"
      ],
      "metadata": {
        "id": "mCg2iom-C9f1"
      }
    },
    {
      "cell_type": "code",
      "source": [
        "set_1={\"ram\",\"shyam\",\"ram\"}\n",
        "print(set_1)"
      ],
      "metadata": {
        "colab": {
          "base_uri": "https://localhost:8080/"
        },
        "id": "uX07UWiNCj5U",
        "outputId": "138fa53d-eb27-41c6-fa65-90511ea7fbac"
      },
      "execution_count": 33,
      "outputs": [
        {
          "output_type": "stream",
          "name": "stdout",
          "text": [
            "{'ram', 'shyam'}\n"
          ]
        }
      ]
    },
    {
      "cell_type": "markdown",
      "source": [
        "# dict()function"
      ],
      "metadata": {
        "id": "7WXXUlHOEJ7s"
      }
    },
    {
      "cell_type": "code",
      "source": [
        "dict_1={\"name\":\"himanshu\",\"age\":\"30\",\"city\":\"jaipur\"}\n",
        "dict_1"
      ],
      "metadata": {
        "colab": {
          "base_uri": "https://localhost:8080/"
        },
        "id": "9Rmx5RpbFPVV",
        "outputId": "253f96dc-c2a2-4a15-82fd-5650f76327a5"
      },
      "execution_count": 34,
      "outputs": [
        {
          "output_type": "execute_result",
          "data": {
            "text/plain": [
              "{'name': 'himanshu', 'age': '30', 'city': 'jaipur'}"
            ]
          },
          "metadata": {},
          "execution_count": 34
        }
      ]
    }
  ]
}